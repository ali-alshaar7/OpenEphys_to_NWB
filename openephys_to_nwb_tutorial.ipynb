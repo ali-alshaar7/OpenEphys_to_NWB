{
  "nbformat": 4,
  "nbformat_minor": 0,
  "metadata": {
    "colab": {
      "name": "openephys_to_nwb_tutorial.ipynb",
      "provenance": []
    },
    "kernelspec": {
      "name": "python3",
      "display_name": "Python 3"
    },
    "language_info": {
      "name": "python"
    }
  },
  "cells": [
    {
      "cell_type": "code",
      "source": [
        "from google.colab import drive\n",
        "drive.mount('/content/drive')\n",
        "import sys\n",
        "sys.path.append('/content/drive/My Drive/Colab Notebooks')"
      ],
      "metadata": {
        "colab": {
          "base_uri": "https://localhost:8080/"
        },
        "id": "Y-sOBS_NNovl",
        "outputId": "33df7362-96aa-4d7f-e217-2d99848fe715"
      },
      "execution_count": null,
      "outputs": [
        {
          "output_type": "stream",
          "name": "stdout",
          "text": [
            "Mounted at /content/drive\n"
          ]
        }
      ]
    },
    {
      "cell_type": "code",
      "execution_count": null,
      "metadata": {
        "id": "emlZyEkLNQ9d"
      },
      "outputs": [],
      "source": [
        "!git clone https://github.com/alishaar/OpenEphys_to_NWB.git\n",
        "!pip install -r /content/OpenEphys_to_NWB/requirements.txt"
      ]
    },
    {
      "cell_type": "markdown",
      "source": [
        "# Metadata file explained\n",
        "\n",
        "session.description = 'NA';   //description of the recording session\\\n",
        "session.start_time = '31-Jul-2021 180230'; //start time of the recording session\\\n",
        "session.device_name = 'NA';//name of the recording device used in the session\\\n",
        "electrode_group.name = 'NA';//name of the group of electordes associated with the recordings taken in the files you wish to convert to nwb\\\n",
        "electrode_group.description = 'NA';//a description of the elecrode group\\\n",
        "electrode_group.location = 'NA';//location (e.g. region of the brain) of the group of electrodes\\\n",
        "electrode1_metadata.id = 1;// id of the first electrode (should just be 1 for first, 2 for second etc.)\\\n",
        "electrode1_metadata.x = 1;//x coordinate of the first electrode\\\n",
        "electrode1_metadata.y = 2;//y coordinate\\\n",
        "electrode1_metadata.z = 3;//z coordinate\\\n",
        "electrode1_metadata.impedance = 1;//impedance value of first electrode\\\n",
        "electrode1_metadata.location = 'NA';//location (e.g. region of the brain) of the first electrode\\\n",
        "electrode1_metadata.filtering = 'NA';//any filtering used for the first electrode data (e.g band pass filter range etc.)\\\n",
        "file_electrodes.100_CH1.continuous = [0];//the rest stores which electrodes in the list coorespond to the data for each file we wish to convert\\ \n",
        "file_electrodes.100_CH2.continuous = [0];\\\n",
        "file_electrodes.STp111.0n0 (1).spikes = [0];\\\n",
        "file_electrodes.STp111.0n1 (1).spikes = [1];"
      ],
      "metadata": {
        "id": "ruoQxIo5pm2i"
      }
    },
    {
      "cell_type": "markdown",
      "source": [
        "metadata file should be prepared beforhand and stored in the open ephys directory as \"metadata.txt\"\n",
        "\n",
        "If no metadata.txt file is found, a default will be used, which sets most fields to NA."
      ],
      "metadata": {
        "id": "3eBp1abZp3OY"
      }
    },
    {
      "cell_type": "code",
      "source": [
        "!python /content/OpenEphys_to_NWB/main.py  --source source_file_path --destination destination_file_path"
      ],
      "metadata": {
        "id": "FcmfR5K-N3_G"
      },
      "execution_count": null,
      "outputs": []
    },
    {
      "cell_type": "markdown",
      "source": [
        "clone the repo, and run on a directory."
      ],
      "metadata": {
        "id": "KQB92DO7amPV"
      }
    },
    {
      "cell_type": "code",
      "source": [
        "from pynwb import NWBHDF5IO\n",
        "\n",
        "io = NWBHDF5IO( destination_file_path , 'r')\n",
        "nwbfile = io.read()"
      ],
      "metadata": {
        "id": "p2ucEccDPffV"
      },
      "execution_count": null,
      "outputs": []
    },
    {
      "cell_type": "markdown",
      "source": [
        "open the saved nwb file"
      ],
      "metadata": {
        "id": "zcnxz5xha1Tc"
      }
    },
    {
      "cell_type": "code",
      "source": [
        "ephys_ts = nwbfile.acquisition[\"100_CH1\"]\n",
        "print(ephys_ts)"
      ],
      "metadata": {
        "colab": {
          "base_uri": "https://localhost:8080/"
        },
        "id": "9NrZDxKtVwrV",
        "outputId": "a6065afc-7d49-4359-a37a-2e804629f326"
      },
      "execution_count": null,
      "outputs": [
        {
          "output_type": "stream",
          "name": "stdout",
          "text": [
            "continuous_'CH2' pynwb.ecephys.ElectricalSeries at 0x140308154276560\n",
            "Fields:\n",
            "  comments: no comments\n",
            "  conversion: 1.0\n",
            "  data: <HDF5 dataset \"data\": shape (80039936,), type \"<f8\">\n",
            "  description: no description\n",
            "  electrodes: electrodes <class 'hdmf.common.table.DynamicTableRegion'>\n",
            "  rate: 30000.0\n",
            "  resolution: -1.0\n",
            "  starting_time: 0.0\n",
            "  starting_time_unit: seconds\n",
            "  unit: volts\n",
            "\n"
          ]
        }
      ]
    },
    {
      "cell_type": "code",
      "source": [
        "ephys_ts = nwbfile.acquisition[\"'ST  p111.0 n0'\"]\n",
        "print(ephys_ts)"
      ],
      "metadata": {
        "colab": {
          "base_uri": "https://localhost:8080/"
        },
        "id": "hT7O3fCqcfHK",
        "outputId": "7dd5d54d-2727-43a4-f196-c505c7b9eeac"
      },
      "execution_count": 34,
      "outputs": [
        {
          "output_type": "stream",
          "name": "stdout",
          "text": [
            "'ST  p111.0 n0' pynwb.ecephys.SpikeEventSeries at 0x140308154629136\n",
            "Fields:\n",
            "  comments: no comments\n",
            "  conversion: 1.0\n",
            "  data: <HDF5 dataset \"data\": shape (322484, 40, 2), type \"<f8\">\n",
            "  description: no description\n",
            "  electrodes: electrodes <class 'hdmf.common.table.DynamicTableRegion'>\n",
            "  interval: 1\n",
            "  resolution: -1.0\n",
            "  timestamps: <HDF5 dataset \"timestamps\": shape (322484,), type \"<f8\">\n",
            "  timestamps_unit: seconds\n",
            "  unit: volts\n",
            "\n"
          ]
        }
      ]
    },
    {
      "cell_type": "markdown",
      "source": [
        "each open ephys file is stored as a seperate acquisition object in the nwb file.\n",
        "\n",
        "*  continuous data files: processor ID_channel name (e.g. 100_CH1)\n",
        "*  spike data files: electrode type (SE = single electrode, ST =    stereotrode, TT = tetrode), the source processor (e.g., p104.0), and the electrode index (e.g., n0, n1, etc.). (e.g. 'ST  p111.0 n0')\n",
        "\n"
      ],
      "metadata": {
        "id": "h3ix9-RjbBVZ"
      }
    },
    {
      "cell_type": "code",
      "source": [
        "dat = ephys_ts.data\n",
        "print(dat[:])"
      ],
      "metadata": {
        "colab": {
          "base_uri": "https://localhost:8080/"
        },
        "id": "ONVyDaHIXiJj",
        "outputId": "0e6ae99d-f778-4fd8-db34-f44a6db4e553"
      },
      "execution_count": 35,
      "outputs": [
        {
          "output_type": "stream",
          "name": "stdout",
          "text": [
            "[[[ 0.00e+00  0.00e+00]\n",
            "  [ 0.00e+00  0.00e+00]\n",
            "  [ 0.00e+00  0.00e+00]\n",
            "  ...\n",
            "  [ 2.22e-05  7.20e-06]\n",
            "  [ 2.50e-05  1.70e-05]\n",
            "  [ 3.06e-05  2.72e-05]]\n",
            "\n",
            " [[-2.48e-05 -2.50e-05]\n",
            "  [-2.32e-05 -2.44e-05]\n",
            "  [-1.82e-05 -2.36e-05]\n",
            "  ...\n",
            "  [ 4.00e-07  5.00e-06]\n",
            "  [ 2.58e-05  1.64e-05]\n",
            "  [ 3.28e-05  1.78e-05]]\n",
            "\n",
            " [[ 7.26e-05  4.70e-05]\n",
            "  [ 5.00e-05  3.16e-05]\n",
            "  [ 1.48e-05  9.60e-06]\n",
            "  ...\n",
            "  [ 8.60e-06  1.86e-05]\n",
            "  [ 1.02e-05  2.02e-05]\n",
            "  [ 1.22e-05  1.76e-05]]\n",
            "\n",
            " ...\n",
            "\n",
            " [[ 4.00e-05  5.32e-05]\n",
            "  [ 1.48e-05  2.56e-05]\n",
            "  [-9.00e-06 -2.60e-06]\n",
            "  ...\n",
            "  [-1.84e-05 -2.34e-05]\n",
            "  [-2.68e-05 -2.64e-05]\n",
            "  [-2.78e-05 -2.46e-05]]\n",
            "\n",
            " [[ 3.44e-05  4.16e-05]\n",
            "  [ 2.94e-05  2.36e-05]\n",
            "  [ 1.42e-05 -3.40e-06]\n",
            "  ...\n",
            "  [-1.88e-05 -2.06e-05]\n",
            "  [-2.00e-05 -1.96e-05]\n",
            "  [-1.70e-05 -1.68e-05]]\n",
            "\n",
            " [[ 9.80e-06  8.20e-06]\n",
            "  [ 2.20e-06  2.40e-06]\n",
            "  [-1.20e-06  2.40e-06]\n",
            "  ...\n",
            "  [-3.18e-05 -3.50e-05]\n",
            "  [-2.42e-05 -3.76e-05]\n",
            "  [-1.52e-05 -2.86e-05]]]\n"
          ]
        }
      ]
    }
  ]
}